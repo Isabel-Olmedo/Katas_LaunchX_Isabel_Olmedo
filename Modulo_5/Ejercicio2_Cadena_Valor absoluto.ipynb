{
 "cells": [
  {
   "cell_type": "markdown",
   "metadata": {},
   "source": [
    "## Ejercicio 2: convierte cadenas en números y usa valores absolutos"
   ]
  },
  {
   "cell_type": "markdown",
   "metadata": {},
   "source": [
    "* Crear una aplicación para trabajar con números y entrada de usuario.\n",
    "Para crear nuestra aplicación, queremos leer la distancia del sol para dos planetas, y luego mostrar la distancia entre los planetas. Haremos esto usando input para leer los valores, int para convertir a entero y luego abs para convertir el resultado en su valor absoluto."
   ]
  },
  {
   "cell_type": "markdown",
   "metadata": {},
   "source": [
    "* Usando input, agrega el código para leer la distancia del sol para cada planeta, considerando 2 planetas."
   ]
  },
  {
   "cell_type": "code",
   "execution_count": 2,
   "metadata": {},
   "outputs": [],
   "source": [
    "''' Con Input lee los valores desde consola '''\n",
    "\n",
    "# variables para almacenar las entradas del usuario\n",
    "planeta1 = input(\"Distancia en km del planeta 1 al Sol: \")\n",
    "planeta2 = input(\"Distancia en km del planeta 2 al Sol: \")"
   ]
  },
  {
   "cell_type": "code",
   "execution_count": 3,
   "metadata": {},
   "outputs": [],
   "source": [
    "''' Debido a que input devuelve valores de cadena, necesitamos convertirlos en números '''\n",
    "\n",
    "# Convierte las cadenas de ambos planetas a números enteros\n",
    "\n",
    "planeta1 = int(planeta1)\n",
    "planeta2 = int(planeta2)"
   ]
  },
  {
   "cell_type": "markdown",
   "metadata": {},
   "source": [
    "* Realizar el cálculo y convertir a valor absoluto\n",
    "Con los valores almacenados como números, ahora puedes agregar el código para realizar el cálculo, restando el primer planeta del segundo. Debido a que el segundo planeta podría ser un número mayor, usarás abs para convertirlo a un valor absoluto. También agregarás el código para mostrar el resultado en millas multiplicando la distancia del kilómetro por 0.621"
   ]
  },
  {
   "cell_type": "code",
   "execution_count": 4,
   "metadata": {},
   "outputs": [
    {
     "name": "stdout",
     "output_type": "stream",
     "text": [
      "Distancia en kilometros:  1622600000\n",
      "Distancia en millas:  1007634600.0\n"
     ]
    }
   ],
   "source": [
    "''' Realizar el cálculo y determinar el valor absoluto '''\n",
    "\n",
    "# Calcular la distancia entre planetas\n",
    "distancia_km = abs(planeta2 - planeta1) # distancia en km\n",
    "\n",
    "# Convertir de KM a Millas\n",
    "distancia_millas = distancia_km * 0.621 # distancia en millas\n",
    "\n",
    "# Muestra distancia\n",
    "print(\"Distancia en kilometros: \",distancia_km)\n",
    "print(\"Distancia en millas: \",distancia_millas)"
   ]
  }
 ],
 "metadata": {
  "interpreter": {
   "hash": "9f4fb83c4d26df44e432859bd5bff622aa6ad9bd12f039cf59500dad74cded72"
  },
  "kernelspec": {
   "display_name": "Python 3.8.6 64-bit",
   "language": "python",
   "name": "python3"
  },
  "language_info": {
   "codemirror_mode": {
    "name": "ipython",
    "version": 3
   },
   "file_extension": ".py",
   "mimetype": "text/x-python",
   "name": "python",
   "nbconvert_exporter": "python",
   "pygments_lexer": "ipython3",
   "version": "3.8.6"
  },
  "orig_nbformat": 4
 },
 "nbformat": 4,
 "nbformat_minor": 2
}
