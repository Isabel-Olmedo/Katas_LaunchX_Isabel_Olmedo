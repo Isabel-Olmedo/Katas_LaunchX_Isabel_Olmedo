{
 "cells": [
  {
   "cell_type": "markdown",
   "metadata": {},
   "source": [
    " ## Mostrar la fecha de hoy"
   ]
  },
  {
   "cell_type": "code",
   "execution_count": 2,
   "metadata": {},
   "outputs": [
    {
     "name": "stdout",
     "output_type": "stream",
     "text": [
      "Today's date is: 2022-02-11\n"
     ]
    }
   ],
   "source": [
    "# Importar la biblioteca\n",
    "from datetime import date\n",
    "\n",
    "#Con today obtiene la fecha de hoy\n",
    "date.today() \n",
    "\n",
    "#Imprimimos la fecha en consola\n",
    "print(\"Today's date is: \" + str(date.today()))  # tambien funciona print(\"Today's date is: \", date.today())"
   ]
  }
 ],
 "metadata": {
  "interpreter": {
   "hash": "9f4fb83c4d26df44e432859bd5bff622aa6ad9bd12f039cf59500dad74cded72"
  },
  "kernelspec": {
   "display_name": "Python 3.8.6 64-bit",
   "language": "python",
   "name": "python3"
  },
  "language_info": {
   "codemirror_mode": {
    "name": "ipython",
    "version": 3
   },
   "file_extension": ".py",
   "mimetype": "text/x-python",
   "name": "python",
   "nbconvert_exporter": "python",
   "pygments_lexer": "ipython3",
   "version": "3.8.6"
  },
  "orig_nbformat": 4
 },
 "nbformat": 4,
 "nbformat_minor": 2
}
