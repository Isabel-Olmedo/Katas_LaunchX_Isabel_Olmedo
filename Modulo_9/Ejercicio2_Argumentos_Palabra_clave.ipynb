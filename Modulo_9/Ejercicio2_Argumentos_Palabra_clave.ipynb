{
 "cells": [
  {
   "cell_type": "markdown",
   "metadata": {},
   "source": [
    "## Ejercicio 2: Trabajo con argumentos de palabra clave\n",
    "Ejercicio : Trabajar con argumentos de palabras clave en funciones"
   ]
  },
  {
   "cell_type": "markdown",
   "metadata": {},
   "source": [
    "En este ejercicio, construirás un informe de cohete que requiere varias piezas de información, como el tiempo hasta el destino, el combustible a la izquierda y el nombre del destino. Comienza por crear una función que creará un informe preciso de la misión:"
   ]
  },
  {
   "cell_type": "code",
   "execution_count": 5,
   "metadata": {},
   "outputs": [],
   "source": [
    "# Función con un informe preciso de la misión. \n",
    "# Considera hora de prelanzamiento, tiempo de vuelo, destino, tanque externo y tanque interno\n",
    "\n",
    "def informe_mision (hora_prelanzamiento, tiempo_vuelo, destino, tanque_externo, tanque_interno) :\n",
    "    return f\"\"\"\n",
    "    - - Informe de la misión - - - - - - - -\n",
    "\n",
    "    Hora de prelanzamiento : {hora_prelanzamiento}\n",
    "    Tiempo de vuelo : {tiempo_vuelo} horas\n",
    "    Destino : {destino}\n",
    "    Tanque externo : {tanque_externo}%\n",
    "    Tanque interno : {tanque_interno}%\n",
    "    - - - - - - - - - - - - - - - - - - - - -\n",
    "    \"\"\"\n",
    "    "
   ]
  },
  {
   "cell_type": "code",
   "execution_count": 6,
   "metadata": {},
   "outputs": [
    {
     "name": "stdout",
     "output_type": "stream",
     "text": [
      "\n",
      "    - - Informe de la misión - - - - - - - -\n",
      "\n",
      "    Hora de prelanzamiento : 20\n",
      "    Tiempo de vuelo : 15 horas\n",
      "    Destino : Marte\n",
      "    Tanque externo : 100%\n",
      "    Tanque interno : 90%\n",
      "    - - - - - - - - - - - - - - - - - - - - -\n",
      "    \n"
     ]
    }
   ],
   "source": [
    "# Muestra el informe de la mision con la función informe_mision\n",
    "print(informe_mision(20, 15, 'Marte', 100, 90))"
   ]
  },
  {
   "cell_type": "markdown",
   "metadata": {},
   "source": [
    "* La función es problemática porque no se puede adaptar para minutos adicionales o tanques adicionales de combustible. Hazlo más flexible permitiendo cualquier número de pasos basados en el tiempo y cualquier número de tanques. En lugar de usar *args y **kwargs, aprovecha el hecho de que puedes usar cualquier nombre que desees. Asegurate que la función sea más legible mediante el uso de nombres de variables que están asociados con las entradas, como *minutes y **fuel_reservoirs:"
   ]
  },
  {
   "cell_type": "code",
   "execution_count": 11,
   "metadata": {},
   "outputs": [],
   "source": [
    "# Escribe tu nueva función de reporte considerando lo anterior\n",
    "\n",
    "def informe_mision (hora_prelanzamiento, *minutos_vuelo, destino, **tanques) :\n",
    "    return f\"\"\"\n",
    "    - - Informe de la misión - - - - - - - -\n",
    "\n",
    "    Hora de prelanzamiento : {hora_prelanzamiento}\n",
    "    Tiempo de vuelo : {sum(minutos_vuelo)} minutos\n",
    "    Destino : {destino}\n",
    "    Promedio combustible : {(sum(tanques.values())/len(tanques))}\n",
    "    - - - - - - - - - - - - - - - - - - - - -\n",
    "    \"\"\""
   ]
  },
  {
   "cell_type": "code",
   "execution_count": 13,
   "metadata": {},
   "outputs": [
    {
     "name": "stdout",
     "output_type": "stream",
     "text": [
      "\n",
      "    - - Informe de la misión - - - - - - - -\n",
      "\n",
      "    Hora de prelanzamiento : 20\n",
      "    Tiempo de vuelo : 45 minutos\n",
      "    Destino : Marte\n",
      "    Promedio combustible : 96.66666666666667\n",
      "    - - - - - - - - - - - - - - - - - - - - -\n",
      "    \n"
     ]
    }
   ],
   "source": [
    "# Muestra el informe de la mision con la función informe_mision\n",
    "print(informe_mision(20, 15, 10, 20, destino='Marte', interno = 100, externo = 90, repuesto = 100))"
   ]
  },
  {
   "cell_type": "markdown",
   "metadata": {},
   "source": [
    "\n",
    "* Debido a que el combustible que queda en los tanques es específico de cada tanque, actualiza la función para usar el nombre de cada tanque en el informe:"
   ]
  },
  {
   "cell_type": "code",
   "execution_count": 51,
   "metadata": {},
   "outputs": [],
   "source": [
    "# Escribe tu nueva función\n",
    "\n",
    "#Función para mostrar sólo la informacion específica de cada tanque, esta función será utilizada en informe misión\n",
    "def reporte_tanques(tanques) :\n",
    "    informe_tanques = ''\n",
    "    for tanque, cantidad in tanques.items():\n",
    "        informe_tanques += f\"\"\"\n",
    "            Tanque {tanque} : {cantidad}\"\"\"\n",
    "    return informe_tanques\n",
    "\n",
    "# Función para mostrar el informe general    \n",
    "def informe_mision (hora_prelanzamiento, *minutos_vuelo, destino, **tanques) :\n",
    "    informe_gral = f\"\"\"\n",
    "    - - Informe de la misión - - - - - - - -\n",
    "\n",
    "    Hora de prelanzamiento : {hora_prelanzamiento}\n",
    "    Tiempo de vuelo : {sum(minutos_vuelo)} minutos\n",
    "    Destino : {destino}\n",
    "\n",
    "    - Tanques disponibles :\n",
    "    \"\"\" \n",
    "    informe_tanques = reporte_tanques(tanques)\n",
    "    return informe_gral + informe_tanques"
   ]
  },
  {
   "cell_type": "code",
   "execution_count": 52,
   "metadata": {},
   "outputs": [
    {
     "name": "stdout",
     "output_type": "stream",
     "text": [
      "\n",
      "    - - Informe de la misión - - - - - - - -\n",
      "\n",
      "    Hora de prelanzamiento : 20\n",
      "    Tiempo de vuelo : 45 minutos\n",
      "    Destino : Marte\n",
      "\n",
      "    - Tanques disponibles :\n",
      "    \n",
      "            Tanque interno : 100\n",
      "            Tanque externo : 90\n",
      "            Tanque repuesto : 100\n"
     ]
    }
   ],
   "source": [
    "# Muestra el informe de la mision con la función informe_mision\n",
    "print(informe_mision(20, 15, 10, 20, destino='Marte', interno = 100, externo = 90, repuesto = 100))"
   ]
  }
 ],
 "metadata": {
  "interpreter": {
   "hash": "9f4fb83c4d26df44e432859bd5bff622aa6ad9bd12f039cf59500dad74cded72"
  },
  "kernelspec": {
   "display_name": "Python 3.8.6 64-bit",
   "language": "python",
   "name": "python3"
  },
  "language_info": {
   "codemirror_mode": {
    "name": "ipython",
    "version": 3
   },
   "file_extension": ".py",
   "mimetype": "text/x-python",
   "name": "python",
   "nbconvert_exporter": "python",
   "pygments_lexer": "ipython3",
   "version": "3.8.6"
  },
  "orig_nbformat": 4
 },
 "nbformat": 4,
 "nbformat_minor": 2
}
