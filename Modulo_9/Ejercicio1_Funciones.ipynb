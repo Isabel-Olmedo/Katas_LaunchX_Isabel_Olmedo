{
 "cells": [
  {
   "cell_type": "markdown",
   "metadata": {},
   "source": [
    "## Ejercicio: Uso de funciones en Python\n",
    "Ejercicio 1: Trabajar con argumentos en funciones"
   ]
  },
  {
   "cell_type": "markdown",
   "metadata": {},
   "source": [
    "En este ejercicio, construirás un informe de combustible que requiere información de varias ubicaciones de combustible en todo el cohete."
   ]
  },
  {
   "cell_type": "markdown",
   "metadata": {},
   "source": [
    "* Comienza por crear una función que necesite tres lecturas de combustible y devuelva un informe:"
   ]
  },
  {
   "cell_type": "code",
   "execution_count": 12,
   "metadata": {},
   "outputs": [],
   "source": [
    "# Función para leer 3 tanques de combustible y muestre el promedio\n",
    "\n",
    "def reporte_combustible(tanque1, tanque2, tanque3):\n",
    "    promedio_combustible = (tanque1 + tanque2 + tanque3)/3\n",
    "    return f\"\"\"\n",
    "    Reporte de combustible:\n",
    "    Tanque_1 = {tanque1}\n",
    "    Tanque_2 = {tanque2}\n",
    "    Tanque_3 = {tanque3}\n",
    "    ------------------------------------------\n",
    "    Promedio de combustible {promedio_combustible}\n",
    "    \"\"\""
   ]
  },
  {
   "cell_type": "markdown",
   "metadata": {},
   "source": [
    "* Ahora que hemos definido la función de informes, vamos a comprobarlo. Para esta misión, los tanques no están llenos:"
   ]
  },
  {
   "cell_type": "code",
   "execution_count": 13,
   "metadata": {},
   "outputs": [
    {
     "name": "stdout",
     "output_type": "stream",
     "text": [
      "\n",
      "    Reporte de combustible:\n",
      "    Tanque_1 = 10\n",
      "    Tanque_2 = 20\n",
      "    Tanque_3 = 30\n",
      "    ------------------------------------------\n",
      "    Promedio de combustible 20.0\n",
      "    \n"
     ]
    }
   ],
   "source": [
    "# Llamamos a la función que genera el reporte \n",
    "print(reporte_combustible(10, 20, 30))"
   ]
  },
  {
   "cell_type": "markdown",
   "metadata": {},
   "source": [
    "* En lugar de simplemente crear el informe, la función también está calculando el promedio. Mejora la legibilidad extrayendo el cálculo promedio de la función en una nueva función para que el promedio se pueda hacer de forma independiente:"
   ]
  },
  {
   "cell_type": "code",
   "execution_count": 14,
   "metadata": {},
   "outputs": [],
   "source": [
    "# Función promedio \n",
    "def promedio_combustible(tanque1, tanque2, tanque3):\n",
    "    promedio = (tanque1 + tanque2 + tanque3) / 3\n",
    "    \n",
    "    return promedio\n",
    "    "
   ]
  },
  {
   "cell_type": "markdown",
   "metadata": {},
   "source": [
    "* Ahora actualiza la función de informes para llamando a la nueva función del promedio:"
   ]
  },
  {
   "cell_type": "code",
   "execution_count": 16,
   "metadata": {},
   "outputs": [],
   "source": [
    "# Actualiza la función reporte_combustible\n",
    "\n",
    "def reporte_combustible(tanque1, tanque2, tanque3):\n",
    "    promedio = promedio_combustible(tanque1, tanque2, tanque3)\n",
    "    return f\"\"\"\n",
    "    Reporte de combustible:\n",
    "    Tanque_1 = {tanque1}\n",
    "    Tanque_2 = {tanque2}\n",
    "    Tanque_3 = {tanque3}\n",
    "    ------------------------------------------\n",
    "    Promedio de combustible {promedio}\n",
    "    \"\"\""
   ]
  },
  {
   "cell_type": "code",
   "execution_count": 17,
   "metadata": {},
   "outputs": [
    {
     "name": "stdout",
     "output_type": "stream",
     "text": [
      "\n",
      "    Reporte de combustible:\n",
      "    Tanque_1 = 10\n",
      "    Tanque_2 = 20\n",
      "    Tanque_3 = 30\n",
      "    ------------------------------------------\n",
      "    Promedio de combustible 20.0\n",
      "    \n"
     ]
    }
   ],
   "source": [
    "# Muestra la salida de la función reporte_combustible actualizada\n",
    "\n",
    "# Llamamos a la función que genera el reporte \n",
    "print(reporte_combustible(10, 20, 30))"
   ]
  }
 ],
 "metadata": {
  "interpreter": {
   "hash": "9f4fb83c4d26df44e432859bd5bff622aa6ad9bd12f039cf59500dad74cded72"
  },
  "kernelspec": {
   "display_name": "Python 3.8.6 64-bit",
   "language": "python",
   "name": "python3"
  },
  "language_info": {
   "codemirror_mode": {
    "name": "ipython",
    "version": 3
   },
   "file_extension": ".py",
   "mimetype": "text/x-python",
   "name": "python",
   "nbconvert_exporter": "python",
   "pygments_lexer": "ipython3",
   "version": "3.8.6"
  },
  "orig_nbformat": 4
 },
 "nbformat": 4,
 "nbformat_minor": 2
}
